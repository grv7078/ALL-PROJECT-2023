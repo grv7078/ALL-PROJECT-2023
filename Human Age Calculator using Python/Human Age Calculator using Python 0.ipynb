{
 "cells": [
  {
   "cell_type": "code",
   "execution_count": 1,
   "id": "7f67411a",
   "metadata": {},
   "outputs": [
    {
     "name": "stdout",
     "output_type": "stream",
     "text": [
      "Enter your birthdate (yyyy-mm-dd): 1999-04-04\n",
      "You are 24 years old.\n"
     ]
    }
   ],
   "source": [
    "from datetime import datetime\n",
    "\n",
    "def calculate_age(birthdate):\n",
    "    # Parse the birthdate string to a datetime object\n",
    "    birthdate = datetime.strptime(birthdate, \"%Y-%m-%d\")\n",
    "\n",
    "    # Get the current date\n",
    "    current_date = datetime.now()\n",
    "\n",
    "    # Calculate the age\n",
    "    age = current_date.year - birthdate.year - ((current_date.month, current_date.day) < (birthdate.month, birthdate.day))\n",
    "\n",
    "    return age\n",
    "\n",
    "# Input birthdate in yyyy-mm-dd format\n",
    "birthdate = input(\"Enter your birthdate (yyyy-mm-dd): \")\n",
    "\n",
    "try:\n",
    "    age = calculate_age(birthdate)\n",
    "    print(f\"You are {age} years old.\")\n",
    "except ValueError:\n",
    "    print(\"Invalid date format. Please enter your birthdate in yyyy-mm-dd format.\")\n"
   ]
  },
  {
   "cell_type": "code",
   "execution_count": 2,
   "id": "6e648e25",
   "metadata": {},
   "outputs": [
    {
     "data": {
      "text/plain": [
       "''"
      ]
     },
     "execution_count": 2,
     "metadata": {},
     "output_type": "execute_result"
    }
   ],
   "source": [
    "from tkinter import *\n",
    "import tkinter as tk\n",
    "from PIL import ImageTk, Image\n",
    "import calendar\n",
    "root = tk.Tk()\n",
    "root.geometry('400x300')\n",
    "root.title('Simple Calendar')     "
   ]
  },
  {
   "cell_type": "code",
   "execution_count": 3,
   "id": "facaaab2",
   "metadata": {},
   "outputs": [],
   "source": [
    "def show():\n",
    "\n",
    "        m = int(month.get())\n",
    "        y = int(year.get())\n",
    "        output = calendar.month(y,m)\n",
    "\n",
    "        cal.insert('end',output)"
   ]
  },
  {
   "cell_type": "code",
   "execution_count": 4,
   "id": "bf095135",
   "metadata": {},
   "outputs": [],
   "source": [
    "\n",
    "def clear():\n",
    "        cal.delete(1.0,'end')"
   ]
  },
  {
   "cell_type": "code",
   "execution_count": 5,
   "id": "dbc5b40c",
   "metadata": {},
   "outputs": [],
   "source": [
    "def exit():\n",
    "        root.destroy()"
   ]
  },
  {
   "cell_type": "code",
   "execution_count": 6,
   "id": "53dcb6ff",
   "metadata": {},
   "outputs": [],
   "source": [
    "\n",
    "title = Label(root,text=\"SIMPLE CALENDAR APP\",font=('verdana','18','bold'))\n",
    "title.place(x=40,y=10)"
   ]
  },
  {
   "cell_type": "code",
   "execution_count": 7,
   "id": "c7e49e70",
   "metadata": {},
   "outputs": [],
   "source": [
    "m_label = Label(root,text=\"Month\",font=('verdana','10','bold'))\n",
    "m_label.place(x=70,y=80)\n"
   ]
  },
  {
   "cell_type": "code",
   "execution_count": 8,
   "id": "52ae4009",
   "metadata": {},
   "outputs": [],
   "source": [
    "month = Spinbox(root, from_= 1, to = 12,width=\"5\") \n",
    "month.place(x=140,y=80) "
   ]
  },
  {
   "cell_type": "code",
   "execution_count": 9,
   "id": "f523709b",
   "metadata": {},
   "outputs": [],
   "source": [
    "y_label = Label(root,text=\"Year\",font=('verdana','10','bold'))\n",
    "y_label.place(x=210,y=80)"
   ]
  },
  {
   "cell_type": "code",
   "execution_count": 10,
   "id": "9d073560",
   "metadata": {},
   "outputs": [],
   "source": [
    "year = Spinbox(root, from_= 2020, to = 3000,width=\"8\") \n",
    "year.place(x=260,y=80) "
   ]
  },
  {
   "cell_type": "code",
   "execution_count": 11,
   "id": "83b60e19",
   "metadata": {},
   "outputs": [],
   "source": [
    "cal = Text(root,width=33,height=8,relief=RIDGE,borderwidth=2)\n",
    "cal.place(x=70,y=110)\n",
    "\n",
    "show = Button(root,text=\"Show\",font=('verdana',10,'bold'),relief=RIDGE,borderwidth=2,command=show)\n",
    "show.place(x=140,y=250)\n",
    "\n",
    "clear = Button(root,text=\"Clear\",font=('verdana',10,'bold'),relief=RIDGE,borderwidth=2,command=clear)\n",
    "clear.place(x=200,y=250)\n",
    "\n",
    "exit = Button(root,text=\"Exit\",font=('verdana',10,'bold'),relief=RIDGE,borderwidth=2,command=exit)\n",
    "exit.place(x=260,y=250)\n",
    "root.mainloop()"
   ]
  },
  {
   "cell_type": "code",
   "execution_count": null,
   "id": "e0a0f415",
   "metadata": {},
   "outputs": [],
   "source": []
  }
 ],
 "metadata": {
  "kernelspec": {
   "display_name": "Python 3 (ipykernel)",
   "language": "python",
   "name": "python3"
  },
  "language_info": {
   "codemirror_mode": {
    "name": "ipython",
    "version": 3
   },
   "file_extension": ".py",
   "mimetype": "text/x-python",
   "name": "python",
   "nbconvert_exporter": "python",
   "pygments_lexer": "ipython3",
   "version": "3.10.9"
  }
 },
 "nbformat": 4,
 "nbformat_minor": 5
}
