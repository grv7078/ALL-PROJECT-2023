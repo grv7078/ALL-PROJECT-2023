{
 "cells": [
  {
   "cell_type": "raw",
   "id": "a3866b23",
   "metadata": {},
   "source": [
    "# ECG Dataset\n",
    "1. Import Main Packages\n",
    "Loading Data\n",
    "First View on the Data\n",
    "EDA\n",
    "Data Processing\n",
    "Base Model\n",
    "Feature Selection  \n",
    "Hyperparameter Tuning\n",
    "\n"
   ]
  },
  {
   "cell_type": "markdown",
   "id": "e8fe6ac2",
   "metadata": {},
   "source": [
    "# Import Main Packages"
   ]
  },
  {
   "cell_type": "code",
   "execution_count": 1,
   "id": "cabac0bb",
   "metadata": {},
   "outputs": [],
   "source": [
    "import numpy as np\n",
    "import pandas as pd\n",
    "import matplotlib.pyplot as plt\n",
    "import seaborn as sns\n",
    "# Shows plots in jupyter notebook\n",
    "%matplotlib inline"
   ]
  },
  {
   "cell_type": "markdown",
   "id": "6d0f3bc5",
   "metadata": {},
   "source": [
    "# Loading Data"
   ]
  },
  {
   "cell_type": "code",
   "execution_count": 2,
   "id": "842a0e11",
   "metadata": {},
   "outputs": [],
   "source": [
    "df = pd.read_csv(\"mitbih_train.csv\", header = None)"
   ]
  },
  {
   "cell_type": "code",
   "execution_count": 3,
   "id": "4fdcc4e8",
   "metadata": {},
   "outputs": [
    {
     "data": {
      "text/html": [
       "<div>\n",
       "<style scoped>\n",
       "    .dataframe tbody tr th:only-of-type {\n",
       "        vertical-align: middle;\n",
       "    }\n",
       "\n",
       "    .dataframe tbody tr th {\n",
       "        vertical-align: top;\n",
       "    }\n",
       "\n",
       "    .dataframe thead th {\n",
       "        text-align: right;\n",
       "    }\n",
       "</style>\n",
       "<table border=\"1\" class=\"dataframe\">\n",
       "  <thead>\n",
       "    <tr style=\"text-align: right;\">\n",
       "      <th></th>\n",
       "      <th>0</th>\n",
       "      <th>1</th>\n",
       "      <th>2</th>\n",
       "      <th>3</th>\n",
       "      <th>4</th>\n",
       "      <th>5</th>\n",
       "      <th>6</th>\n",
       "      <th>7</th>\n",
       "      <th>8</th>\n",
       "      <th>9</th>\n",
       "      <th>...</th>\n",
       "      <th>178</th>\n",
       "      <th>179</th>\n",
       "      <th>180</th>\n",
       "      <th>181</th>\n",
       "      <th>182</th>\n",
       "      <th>183</th>\n",
       "      <th>184</th>\n",
       "      <th>185</th>\n",
       "      <th>186</th>\n",
       "      <th>187</th>\n",
       "    </tr>\n",
       "  </thead>\n",
       "  <tbody>\n",
       "    <tr>\n",
       "      <th>0</th>\n",
       "      <td>0.977941</td>\n",
       "      <td>0.926471</td>\n",
       "      <td>0.681373</td>\n",
       "      <td>0.245098</td>\n",
       "      <td>0.154412</td>\n",
       "      <td>0.191176</td>\n",
       "      <td>0.151961</td>\n",
       "      <td>0.085784</td>\n",
       "      <td>0.058824</td>\n",
       "      <td>0.049020</td>\n",
       "      <td>...</td>\n",
       "      <td>0.0</td>\n",
       "      <td>0.0</td>\n",
       "      <td>0.0</td>\n",
       "      <td>0.0</td>\n",
       "      <td>0.0</td>\n",
       "      <td>0.0</td>\n",
       "      <td>0.0</td>\n",
       "      <td>0.0</td>\n",
       "      <td>0.0</td>\n",
       "      <td>0.0</td>\n",
       "    </tr>\n",
       "    <tr>\n",
       "      <th>1</th>\n",
       "      <td>0.960114</td>\n",
       "      <td>0.863248</td>\n",
       "      <td>0.461538</td>\n",
       "      <td>0.196581</td>\n",
       "      <td>0.094017</td>\n",
       "      <td>0.125356</td>\n",
       "      <td>0.099715</td>\n",
       "      <td>0.088319</td>\n",
       "      <td>0.074074</td>\n",
       "      <td>0.082621</td>\n",
       "      <td>...</td>\n",
       "      <td>0.0</td>\n",
       "      <td>0.0</td>\n",
       "      <td>0.0</td>\n",
       "      <td>0.0</td>\n",
       "      <td>0.0</td>\n",
       "      <td>0.0</td>\n",
       "      <td>0.0</td>\n",
       "      <td>0.0</td>\n",
       "      <td>0.0</td>\n",
       "      <td>0.0</td>\n",
       "    </tr>\n",
       "    <tr>\n",
       "      <th>2</th>\n",
       "      <td>1.000000</td>\n",
       "      <td>0.659459</td>\n",
       "      <td>0.186486</td>\n",
       "      <td>0.070270</td>\n",
       "      <td>0.070270</td>\n",
       "      <td>0.059459</td>\n",
       "      <td>0.056757</td>\n",
       "      <td>0.043243</td>\n",
       "      <td>0.054054</td>\n",
       "      <td>0.045946</td>\n",
       "      <td>...</td>\n",
       "      <td>0.0</td>\n",
       "      <td>0.0</td>\n",
       "      <td>0.0</td>\n",
       "      <td>0.0</td>\n",
       "      <td>0.0</td>\n",
       "      <td>0.0</td>\n",
       "      <td>0.0</td>\n",
       "      <td>0.0</td>\n",
       "      <td>0.0</td>\n",
       "      <td>0.0</td>\n",
       "    </tr>\n",
       "    <tr>\n",
       "      <th>3</th>\n",
       "      <td>0.925414</td>\n",
       "      <td>0.665746</td>\n",
       "      <td>0.541436</td>\n",
       "      <td>0.276243</td>\n",
       "      <td>0.196133</td>\n",
       "      <td>0.077348</td>\n",
       "      <td>0.071823</td>\n",
       "      <td>0.060773</td>\n",
       "      <td>0.066298</td>\n",
       "      <td>0.058011</td>\n",
       "      <td>...</td>\n",
       "      <td>0.0</td>\n",
       "      <td>0.0</td>\n",
       "      <td>0.0</td>\n",
       "      <td>0.0</td>\n",
       "      <td>0.0</td>\n",
       "      <td>0.0</td>\n",
       "      <td>0.0</td>\n",
       "      <td>0.0</td>\n",
       "      <td>0.0</td>\n",
       "      <td>0.0</td>\n",
       "    </tr>\n",
       "    <tr>\n",
       "      <th>4</th>\n",
       "      <td>0.967136</td>\n",
       "      <td>1.000000</td>\n",
       "      <td>0.830986</td>\n",
       "      <td>0.586854</td>\n",
       "      <td>0.356808</td>\n",
       "      <td>0.248826</td>\n",
       "      <td>0.145540</td>\n",
       "      <td>0.089202</td>\n",
       "      <td>0.117371</td>\n",
       "      <td>0.150235</td>\n",
       "      <td>...</td>\n",
       "      <td>0.0</td>\n",
       "      <td>0.0</td>\n",
       "      <td>0.0</td>\n",
       "      <td>0.0</td>\n",
       "      <td>0.0</td>\n",
       "      <td>0.0</td>\n",
       "      <td>0.0</td>\n",
       "      <td>0.0</td>\n",
       "      <td>0.0</td>\n",
       "      <td>0.0</td>\n",
       "    </tr>\n",
       "  </tbody>\n",
       "</table>\n",
       "<p>5 rows × 188 columns</p>\n",
       "</div>"
      ],
      "text/plain": [
       "        0         1         2         3         4         5         6    \\\n",
       "0  0.977941  0.926471  0.681373  0.245098  0.154412  0.191176  0.151961   \n",
       "1  0.960114  0.863248  0.461538  0.196581  0.094017  0.125356  0.099715   \n",
       "2  1.000000  0.659459  0.186486  0.070270  0.070270  0.059459  0.056757   \n",
       "3  0.925414  0.665746  0.541436  0.276243  0.196133  0.077348  0.071823   \n",
       "4  0.967136  1.000000  0.830986  0.586854  0.356808  0.248826  0.145540   \n",
       "\n",
       "        7         8         9    ...  178  179  180  181  182  183  184  185  \\\n",
       "0  0.085784  0.058824  0.049020  ...  0.0  0.0  0.0  0.0  0.0  0.0  0.0  0.0   \n",
       "1  0.088319  0.074074  0.082621  ...  0.0  0.0  0.0  0.0  0.0  0.0  0.0  0.0   \n",
       "2  0.043243  0.054054  0.045946  ...  0.0  0.0  0.0  0.0  0.0  0.0  0.0  0.0   \n",
       "3  0.060773  0.066298  0.058011  ...  0.0  0.0  0.0  0.0  0.0  0.0  0.0  0.0   \n",
       "4  0.089202  0.117371  0.150235  ...  0.0  0.0  0.0  0.0  0.0  0.0  0.0  0.0   \n",
       "\n",
       "   186  187  \n",
       "0  0.0  0.0  \n",
       "1  0.0  0.0  \n",
       "2  0.0  0.0  \n",
       "3  0.0  0.0  \n",
       "4  0.0  0.0  \n",
       "\n",
       "[5 rows x 188 columns]"
      ]
     },
     "execution_count": 3,
     "metadata": {},
     "output_type": "execute_result"
    }
   ],
   "source": [
    "df.head()"
   ]
  },
  {
   "cell_type": "markdown",
   "id": "bd412cdb",
   "metadata": {},
   "source": [
    "# First View on the Data"
   ]
  },
  {
   "cell_type": "code",
   "execution_count": 4,
   "id": "aae7d1a6",
   "metadata": {},
   "outputs": [
    {
     "name": "stdout",
     "output_type": "stream",
     "text": [
      "<class 'pandas.core.frame.DataFrame'>\n",
      "RangeIndex: 87554 entries, 0 to 87553\n",
      "Columns: 188 entries, 0 to 187\n",
      "dtypes: float64(188)\n",
      "memory usage: 125.6 MB\n"
     ]
    }
   ],
   "source": [
    "df.info()"
   ]
  },
  {
   "cell_type": "code",
   "execution_count": 5,
   "id": "e54fc1e6",
   "metadata": {},
   "outputs": [
    {
     "data": {
      "text/html": [
       "<div>\n",
       "<style scoped>\n",
       "    .dataframe tbody tr th:only-of-type {\n",
       "        vertical-align: middle;\n",
       "    }\n",
       "\n",
       "    .dataframe tbody tr th {\n",
       "        vertical-align: top;\n",
       "    }\n",
       "\n",
       "    .dataframe thead th {\n",
       "        text-align: right;\n",
       "    }\n",
       "</style>\n",
       "<table border=\"1\" class=\"dataframe\">\n",
       "  <thead>\n",
       "    <tr style=\"text-align: right;\">\n",
       "      <th></th>\n",
       "      <th>0</th>\n",
       "      <th>1</th>\n",
       "      <th>2</th>\n",
       "      <th>3</th>\n",
       "      <th>4</th>\n",
       "      <th>5</th>\n",
       "      <th>6</th>\n",
       "      <th>7</th>\n",
       "      <th>8</th>\n",
       "      <th>9</th>\n",
       "      <th>...</th>\n",
       "      <th>178</th>\n",
       "      <th>179</th>\n",
       "      <th>180</th>\n",
       "      <th>181</th>\n",
       "      <th>182</th>\n",
       "      <th>183</th>\n",
       "      <th>184</th>\n",
       "      <th>185</th>\n",
       "      <th>186</th>\n",
       "      <th>187</th>\n",
       "    </tr>\n",
       "  </thead>\n",
       "  <tbody>\n",
       "    <tr>\n",
       "      <th>count</th>\n",
       "      <td>87554.000000</td>\n",
       "      <td>87554.000000</td>\n",
       "      <td>87554.000000</td>\n",
       "      <td>87554.000000</td>\n",
       "      <td>87554.000000</td>\n",
       "      <td>87554.000000</td>\n",
       "      <td>87554.000000</td>\n",
       "      <td>87554.000000</td>\n",
       "      <td>87554.000000</td>\n",
       "      <td>87554.000000</td>\n",
       "      <td>...</td>\n",
       "      <td>87554.000000</td>\n",
       "      <td>87554.000000</td>\n",
       "      <td>87554.000000</td>\n",
       "      <td>87554.000000</td>\n",
       "      <td>87554.000000</td>\n",
       "      <td>87554.000000</td>\n",
       "      <td>87554.000000</td>\n",
       "      <td>87554.000000</td>\n",
       "      <td>87554.000000</td>\n",
       "      <td>87554.000000</td>\n",
       "    </tr>\n",
       "    <tr>\n",
       "      <th>mean</th>\n",
       "      <td>0.890360</td>\n",
       "      <td>0.758160</td>\n",
       "      <td>0.423972</td>\n",
       "      <td>0.219104</td>\n",
       "      <td>0.201127</td>\n",
       "      <td>0.210399</td>\n",
       "      <td>0.205808</td>\n",
       "      <td>0.201773</td>\n",
       "      <td>0.198691</td>\n",
       "      <td>0.196757</td>\n",
       "      <td>...</td>\n",
       "      <td>0.005025</td>\n",
       "      <td>0.004628</td>\n",
       "      <td>0.004291</td>\n",
       "      <td>0.003945</td>\n",
       "      <td>0.003681</td>\n",
       "      <td>0.003471</td>\n",
       "      <td>0.003221</td>\n",
       "      <td>0.002945</td>\n",
       "      <td>0.002807</td>\n",
       "      <td>0.473376</td>\n",
       "    </tr>\n",
       "    <tr>\n",
       "      <th>std</th>\n",
       "      <td>0.240909</td>\n",
       "      <td>0.221813</td>\n",
       "      <td>0.227305</td>\n",
       "      <td>0.206878</td>\n",
       "      <td>0.177058</td>\n",
       "      <td>0.171909</td>\n",
       "      <td>0.178481</td>\n",
       "      <td>0.177240</td>\n",
       "      <td>0.171778</td>\n",
       "      <td>0.168357</td>\n",
       "      <td>...</td>\n",
       "      <td>0.044154</td>\n",
       "      <td>0.042089</td>\n",
       "      <td>0.040525</td>\n",
       "      <td>0.038651</td>\n",
       "      <td>0.037193</td>\n",
       "      <td>0.036255</td>\n",
       "      <td>0.034789</td>\n",
       "      <td>0.032865</td>\n",
       "      <td>0.031924</td>\n",
       "      <td>1.143184</td>\n",
       "    </tr>\n",
       "    <tr>\n",
       "      <th>min</th>\n",
       "      <td>0.000000</td>\n",
       "      <td>0.000000</td>\n",
       "      <td>0.000000</td>\n",
       "      <td>0.000000</td>\n",
       "      <td>0.000000</td>\n",
       "      <td>0.000000</td>\n",
       "      <td>0.000000</td>\n",
       "      <td>0.000000</td>\n",
       "      <td>0.000000</td>\n",
       "      <td>0.000000</td>\n",
       "      <td>...</td>\n",
       "      <td>0.000000</td>\n",
       "      <td>0.000000</td>\n",
       "      <td>0.000000</td>\n",
       "      <td>0.000000</td>\n",
       "      <td>0.000000</td>\n",
       "      <td>0.000000</td>\n",
       "      <td>0.000000</td>\n",
       "      <td>0.000000</td>\n",
       "      <td>0.000000</td>\n",
       "      <td>0.000000</td>\n",
       "    </tr>\n",
       "    <tr>\n",
       "      <th>25%</th>\n",
       "      <td>0.921922</td>\n",
       "      <td>0.682486</td>\n",
       "      <td>0.250969</td>\n",
       "      <td>0.048458</td>\n",
       "      <td>0.082329</td>\n",
       "      <td>0.088416</td>\n",
       "      <td>0.073333</td>\n",
       "      <td>0.066116</td>\n",
       "      <td>0.065000</td>\n",
       "      <td>0.068639</td>\n",
       "      <td>...</td>\n",
       "      <td>0.000000</td>\n",
       "      <td>0.000000</td>\n",
       "      <td>0.000000</td>\n",
       "      <td>0.000000</td>\n",
       "      <td>0.000000</td>\n",
       "      <td>0.000000</td>\n",
       "      <td>0.000000</td>\n",
       "      <td>0.000000</td>\n",
       "      <td>0.000000</td>\n",
       "      <td>0.000000</td>\n",
       "    </tr>\n",
       "    <tr>\n",
       "      <th>50%</th>\n",
       "      <td>0.991342</td>\n",
       "      <td>0.826013</td>\n",
       "      <td>0.429472</td>\n",
       "      <td>0.166000</td>\n",
       "      <td>0.147878</td>\n",
       "      <td>0.158798</td>\n",
       "      <td>0.145324</td>\n",
       "      <td>0.144424</td>\n",
       "      <td>0.150000</td>\n",
       "      <td>0.148734</td>\n",
       "      <td>...</td>\n",
       "      <td>0.000000</td>\n",
       "      <td>0.000000</td>\n",
       "      <td>0.000000</td>\n",
       "      <td>0.000000</td>\n",
       "      <td>0.000000</td>\n",
       "      <td>0.000000</td>\n",
       "      <td>0.000000</td>\n",
       "      <td>0.000000</td>\n",
       "      <td>0.000000</td>\n",
       "      <td>0.000000</td>\n",
       "    </tr>\n",
       "    <tr>\n",
       "      <th>75%</th>\n",
       "      <td>1.000000</td>\n",
       "      <td>0.910506</td>\n",
       "      <td>0.578767</td>\n",
       "      <td>0.341727</td>\n",
       "      <td>0.258993</td>\n",
       "      <td>0.287628</td>\n",
       "      <td>0.298237</td>\n",
       "      <td>0.295391</td>\n",
       "      <td>0.290832</td>\n",
       "      <td>0.283636</td>\n",
       "      <td>...</td>\n",
       "      <td>0.000000</td>\n",
       "      <td>0.000000</td>\n",
       "      <td>0.000000</td>\n",
       "      <td>0.000000</td>\n",
       "      <td>0.000000</td>\n",
       "      <td>0.000000</td>\n",
       "      <td>0.000000</td>\n",
       "      <td>0.000000</td>\n",
       "      <td>0.000000</td>\n",
       "      <td>0.000000</td>\n",
       "    </tr>\n",
       "    <tr>\n",
       "      <th>max</th>\n",
       "      <td>1.000000</td>\n",
       "      <td>1.000000</td>\n",
       "      <td>1.000000</td>\n",
       "      <td>1.000000</td>\n",
       "      <td>1.000000</td>\n",
       "      <td>1.000000</td>\n",
       "      <td>1.000000</td>\n",
       "      <td>1.000000</td>\n",
       "      <td>1.000000</td>\n",
       "      <td>1.000000</td>\n",
       "      <td>...</td>\n",
       "      <td>1.000000</td>\n",
       "      <td>1.000000</td>\n",
       "      <td>1.000000</td>\n",
       "      <td>1.000000</td>\n",
       "      <td>1.000000</td>\n",
       "      <td>1.000000</td>\n",
       "      <td>1.000000</td>\n",
       "      <td>1.000000</td>\n",
       "      <td>1.000000</td>\n",
       "      <td>4.000000</td>\n",
       "    </tr>\n",
       "  </tbody>\n",
       "</table>\n",
       "<p>8 rows × 188 columns</p>\n",
       "</div>"
      ],
      "text/plain": [
       "                0             1             2             3             4    \\\n",
       "count  87554.000000  87554.000000  87554.000000  87554.000000  87554.000000   \n",
       "mean       0.890360      0.758160      0.423972      0.219104      0.201127   \n",
       "std        0.240909      0.221813      0.227305      0.206878      0.177058   \n",
       "min        0.000000      0.000000      0.000000      0.000000      0.000000   \n",
       "25%        0.921922      0.682486      0.250969      0.048458      0.082329   \n",
       "50%        0.991342      0.826013      0.429472      0.166000      0.147878   \n",
       "75%        1.000000      0.910506      0.578767      0.341727      0.258993   \n",
       "max        1.000000      1.000000      1.000000      1.000000      1.000000   \n",
       "\n",
       "                5             6             7             8             9    \\\n",
       "count  87554.000000  87554.000000  87554.000000  87554.000000  87554.000000   \n",
       "mean       0.210399      0.205808      0.201773      0.198691      0.196757   \n",
       "std        0.171909      0.178481      0.177240      0.171778      0.168357   \n",
       "min        0.000000      0.000000      0.000000      0.000000      0.000000   \n",
       "25%        0.088416      0.073333      0.066116      0.065000      0.068639   \n",
       "50%        0.158798      0.145324      0.144424      0.150000      0.148734   \n",
       "75%        0.287628      0.298237      0.295391      0.290832      0.283636   \n",
       "max        1.000000      1.000000      1.000000      1.000000      1.000000   \n",
       "\n",
       "       ...           178           179           180           181  \\\n",
       "count  ...  87554.000000  87554.000000  87554.000000  87554.000000   \n",
       "mean   ...      0.005025      0.004628      0.004291      0.003945   \n",
       "std    ...      0.044154      0.042089      0.040525      0.038651   \n",
       "min    ...      0.000000      0.000000      0.000000      0.000000   \n",
       "25%    ...      0.000000      0.000000      0.000000      0.000000   \n",
       "50%    ...      0.000000      0.000000      0.000000      0.000000   \n",
       "75%    ...      0.000000      0.000000      0.000000      0.000000   \n",
       "max    ...      1.000000      1.000000      1.000000      1.000000   \n",
       "\n",
       "                182           183           184           185           186  \\\n",
       "count  87554.000000  87554.000000  87554.000000  87554.000000  87554.000000   \n",
       "mean       0.003681      0.003471      0.003221      0.002945      0.002807   \n",
       "std        0.037193      0.036255      0.034789      0.032865      0.031924   \n",
       "min        0.000000      0.000000      0.000000      0.000000      0.000000   \n",
       "25%        0.000000      0.000000      0.000000      0.000000      0.000000   \n",
       "50%        0.000000      0.000000      0.000000      0.000000      0.000000   \n",
       "75%        0.000000      0.000000      0.000000      0.000000      0.000000   \n",
       "max        1.000000      1.000000      1.000000      1.000000      1.000000   \n",
       "\n",
       "                187  \n",
       "count  87554.000000  \n",
       "mean       0.473376  \n",
       "std        1.143184  \n",
       "min        0.000000  \n",
       "25%        0.000000  \n",
       "50%        0.000000  \n",
       "75%        0.000000  \n",
       "max        4.000000  \n",
       "\n",
       "[8 rows x 188 columns]"
      ]
     },
     "execution_count": 5,
     "metadata": {},
     "output_type": "execute_result"
    }
   ],
   "source": [
    "df.describe()"
   ]
  },
  {
   "cell_type": "code",
   "execution_count": 6,
   "id": "cb6e23c0",
   "metadata": {},
   "outputs": [
    {
     "data": {
      "text/plain": [
       "0"
      ]
     },
     "execution_count": 6,
     "metadata": {},
     "output_type": "execute_result"
    }
   ],
   "source": [
    "df.isnull().values.sum()"
   ]
  },
  {
   "cell_type": "markdown",
   "id": "0840613d",
   "metadata": {},
   "source": [
    "# Check the number of cases for each class."
   ]
  },
  {
   "cell_type": "code",
   "execution_count": 7,
   "id": "bbadc23c",
   "metadata": {},
   "outputs": [
    {
     "data": {
      "text/plain": [
       "0.0    72471\n",
       "4.0     6431\n",
       "2.0     5788\n",
       "1.0     2223\n",
       "3.0      641\n",
       "Name: 187, dtype: int64"
      ]
     },
     "execution_count": 7,
     "metadata": {},
     "output_type": "execute_result"
    }
   ],
   "source": [
    "df[187].value_counts()"
   ]
  },
  {
   "cell_type": "markdown",
   "id": "9cb5937d",
   "metadata": {},
   "source": [
    "# EDA"
   ]
  },
  {
   "cell_type": "code",
   "execution_count": 8,
   "id": "109ea1ce",
   "metadata": {},
   "outputs": [
    {
     "data": {
      "text/plain": [
       "([<matplotlib.patches.Wedge at 0x170f8e64280>,\n",
       "  <matplotlib.patches.Wedge at 0x170f8e648b0>,\n",
       "  <matplotlib.patches.Wedge at 0x170f8e49600>,\n",
       "  <matplotlib.patches.Wedge at 0x170f8e4a410>,\n",
       "  <matplotlib.patches.Wedge at 0x170f8e4b220>],\n",
       " [Text(-0.9427974976112825, 0.5666858728589446, 'Normal'),\n",
       "  Text(0.7246136625914988, -0.8276080231521041, 'Unknown'),\n",
       "  Text(1.0074182091923962, -0.44171093691189695, 'Ventricular'),\n",
       "  Text(1.091312106928212, -0.13797784340939367, 'Supraventricular'),\n",
       "  Text(1.0997090556586326, -0.025298081002296184, 'Fusion')],\n",
       " [Text(-0.5142531805152449, 0.30910138519578795, '82.8%'),\n",
       "  Text(0.3952438159589993, -0.45142255808296583, '7.3%'),\n",
       "  Text(0.5495008413776705, -0.2409332383155801, '6.6%'),\n",
       "  Text(0.5952611492335701, -0.07526064185966927, '2.5%'),\n",
       "  Text(0.5998413030865268, -0.013798953273979736, '0.7%')])"
      ]
     },
     "execution_count": 8,
     "metadata": {},
     "output_type": "execute_result"
    },
    {
     "data": {
      "image/png": "[encoded data removed]",
      "text/plain": [
       "<Figure size 700x700 with 1 Axes>"
      ]
     },
     "metadata": {},
     "output_type": "display_data"
    }
   ],
   "source": [
    "plt.figure(figsize=(7,7))\n",
    "plt.pie(df[187].value_counts(), labels = [\"Normal\",\"Unknown\",\"Ventricular\",\"Supraventricular\",\"Fusion\"],colors= ['blue','purple','green','red','yellow'],autopct='%3.1f%%')"
   ]
  },
  {
   "cell_type": "code",
   "execution_count": 9,
   "id": "50c1fb45",
   "metadata": {},
   "outputs": [],
   "source": [
    "color = ['blue','red','green','yellow','purple']\n",
    "label = [\"Normal\",\"Supraventricular\",\"Ventricular\",\n",
    "         \"Fusion\",\"Unknown\"]"
   ]
  },
  {
   "cell_type": "markdown",
   "id": "834f8b69",
   "metadata": {},
   "source": [
    "# Showing one case for each class in comparison."
   ]
  },
  {
   "cell_type": "code",
   "execution_count": 10,
   "id": "1d72bd50",
   "metadata": {},
   "outputs": [
    {
     "data": {
      "image/png": "[encoded data removed]",
      "text/plain": [
       "<Figure size 1000x1000 with 6 Axes>"
      ]
     },
     "metadata": {},
     "output_type": "display_data"
    }
   ],
   "source": [
    "fig, ax = plt.subplots(6, figsize=(10, 10))\n",
    "\n",
    "for i in range(5):\n",
    "    t = sns.lineplot((df[df[187] == i].iloc[0])[:-1], label=label[i], color=color[i], ax=ax[i])\n",
    "    t = sns.lineplot((df[df[187] == i].iloc[0])[:-1], label=label[i], color=color[i], ax=ax[5])"
   ]
  },
  {
   "cell_type": "raw",
   "id": "bcf22626",
   "metadata": {},
   "source": [
    "The last 50 features are always 0 and may could be dropped.\n",
    "\n",
    "Here 100 cases for each class is presented together to show the variance in each class."
   ]
  },
  {
   "cell_type": "markdown",
   "id": "486f212e",
   "metadata": {},
   "source": [
    "fig, ax = plt.subplots(5,  sharex=True, sharey=True,figsize=(10,10))\n",
    "for j in range(5):\n",
    "    for i in range(100):\n",
    "        t = ax[j].plot((df[df[187] == j].iloc[i])[:-1], color=color[j], alpha = 0.1)\n",
    "    ax[j].title.set_text(label[j]) \n",
    "  "
   ]
  },
  {
   "cell_type": "markdown",
   "id": "c4d3505a",
   "metadata": {},
   "source": [
    "# It shows that at least for the first 3 classes, the last 50 features do hold value."
   ]
  },
  {
   "cell_type": "markdown",
   "id": "2d628011",
   "metadata": {},
   "source": [
    "# Data Processing"
   ]
  },
  {
   "cell_type": "code",
   "execution_count": 11,
   "id": "2c4ddc08",
   "metadata": {},
   "outputs": [
    {
     "data": {
      "text/plain": [
       "(87554, 188)"
      ]
     },
     "execution_count": 11,
     "metadata": {},
     "output_type": "execute_result"
    }
   ],
   "source": [
    "df.shape"
   ]
  },
  {
   "cell_type": "raw",
   "id": "3d43063d",
   "metadata": {},
   "source": [
    "# Drop duplicates."
   ]
  },
  {
   "cell_type": "code",
   "execution_count": 12,
   "id": "381e925c",
   "metadata": {},
   "outputs": [
    {
     "data": {
      "text/plain": [
       "(87554, 188)"
      ]
     },
     "execution_count": 12,
     "metadata": {},
     "output_type": "execute_result"
    }
   ],
   "source": [
    "df.drop_duplicates(keep=False, inplace=True)\n",
    "df.shape"
   ]
  },
  {
   "cell_type": "raw",
   "id": "c4995a47",
   "metadata": {},
   "source": [
    "# Divide the trainingsdata into trainins and validationdata that have the sae distribution of classes."
   ]
  },
  {
   "cell_type": "code",
   "execution_count": 13,
   "id": "cdb5622d",
   "metadata": {},
   "outputs": [],
   "source": [
    "from sklearn.model_selection import StratifiedShuffleSplit\n",
    "split = StratifiedShuffleSplit(n_splits=1, test_size=0.2, random_state=42)\n",
    "for train_index, valid_index in split.split(df, df[187]):\n",
    "    X = df.iloc[train_index]\n",
    "    X_valid = df.iloc[valid_index]"
   ]
  },
  {
   "cell_type": "code",
   "execution_count": 14,
   "id": "b7f5c72f",
   "metadata": {},
   "outputs": [
    {
     "data": {
      "text/plain": [
       "0.0    0.827734\n",
       "4.0    0.073455\n",
       "2.0    0.066102\n",
       "1.0    0.025384\n",
       "3.0    0.007324\n",
       "Name: 187, dtype: float64"
      ]
     },
     "execution_count": 14,
     "metadata": {},
     "output_type": "execute_result"
    }
   ],
   "source": [
    "X[187].value_counts() / len(X)"
   ]
  },
  {
   "cell_type": "code",
   "execution_count": 15,
   "id": "701a152e",
   "metadata": {},
   "outputs": [
    {
     "data": {
      "text/plain": [
       "0.0    0.827708\n",
       "4.0    0.073440\n",
       "2.0    0.066130\n",
       "1.0    0.025413\n",
       "3.0    0.007310\n",
       "Name: 187, dtype: float64"
      ]
     },
     "execution_count": 15,
     "metadata": {},
     "output_type": "execute_result"
    }
   ],
   "source": [
    "X_valid[187].value_counts() / len(X_valid)"
   ]
  },
  {
   "cell_type": "markdown",
   "id": "4fb9bb9d",
   "metadata": {},
   "source": [
    "# Division of features and labels."
   ]
  },
  {
   "cell_type": "code",
   "execution_count": 16,
   "id": "2f1d56e0",
   "metadata": {},
   "outputs": [
    {
     "data": {
      "text/plain": [
       "32695    0.0\n",
       "57704    0.0\n",
       "69505    0.0\n",
       "16459    0.0\n",
       "57169    0.0\n",
       "        ... \n",
       "28885    0.0\n",
       "55809    0.0\n",
       "62061    0.0\n",
       "50975    0.0\n",
       "68323    0.0\n",
       "Name: 187, Length: 17511, dtype: float64"
      ]
     },
     "execution_count": 16,
     "metadata": {},
     "output_type": "execute_result"
    }
   ],
   "source": [
    "y = X[187]\n",
    "y_valid = X_valid[187]\n",
    "X.pop(187)\n",
    "X_valid.pop(187)"
   ]
  },
  {
   "cell_type": "code",
   "execution_count": 17,
   "id": "734f7469",
   "metadata": {},
   "outputs": [],
   "source": [
    "from sklearn.pipeline import Pipeline\n",
    "from sklearn.compose import ColumnTransformer\n",
    "from sklearn.preprocessing import StandardScaler\n",
    "from sklearn.feature_selection import f_classif"
   ]
  },
  {
   "cell_type": "code",
   "execution_count": 18,
   "id": "7ed5868a",
   "metadata": {},
   "outputs": [],
   "source": [
    "scaler=StandardScaler()"
   ]
  },
  {
   "cell_type": "code",
   "execution_count": 19,
   "id": "6c62b591",
   "metadata": {},
   "outputs": [],
   "source": [
    "X = scaler.fit_transform(X)\n",
    "X = pd.DataFrame(X)\n",
    "X_valid = scaler.transform(X_valid)\n",
    "X_valid = pd.DataFrame(X_valid)"
   ]
  },
  {
   "cell_type": "markdown",
   "id": "fc9c579e",
   "metadata": {},
   "source": [
    "# Base Model\n",
    "The base model will give a first impression on the accuracy that can be expected regarding this dataset."
   ]
  },
  {
   "cell_type": "code",
   "execution_count": 20,
   "id": "eab049d8",
   "metadata": {},
   "outputs": [],
   "source": [
    "import tensorflow \n",
    "from tensorflow import keras\n",
    "from keras.models import Sequential\n",
    "from keras.layers import Dense, Flatten\n",
    "from keras import optimizers\n",
    "import math\n",
    "\n",
    "\n",
    "model = keras.models.Sequential()\n",
    "model.add(keras.layers.Flatten(input_shape=X.shape[1:]))\n",
    "model.add(keras.layers.Dense(50,\n",
    "                                 kernel_initializer=\"lecun_normal\",\n",
    "                                 activation=\"selu\"))\n",
    "model.add(keras.layers.Dense(50,\n",
    "                                 kernel_initializer=\"lecun_normal\",\n",
    "                                 activation=\"selu\"))\n",
    "\n",
    "model.add(keras.layers.Dense(5, activation=\"softmax\"))\n",
    "\n",
    "optimizer=keras.optimizers.SGD(learning_rate=1e-2, momentum=0.9)\n",
    "model.compile(loss=\"sparse_categorical_crossentropy\", optimizer=optimizer, metrics=[\"accuracy\"])"
   ]
  },
  {
   "cell_type": "code",
   "execution_count": 21,
   "id": "bf8abe81",
   "metadata": {},
   "outputs": [
    {
     "name": "stdout",
     "output_type": "stream",
     "text": [
      "Epoch 1/100\n",
      "2189/2189 [==============================] - 4s 2ms/step - loss: 0.2107 - accuracy: 0.9428 - val_loss: 0.1729 - val_accuracy: 0.9521\n",
      "Epoch 2/100\n",
      "2189/2189 [==============================] - 3s 1ms/step - loss: 0.1413 - accuracy: 0.9613 - val_loss: 0.1376 - val_accuracy: 0.9664\n",
      "Epoch 3/100\n",
      "2189/2189 [==============================] - 3s 1ms/step - loss: 0.1210 - accuracy: 0.9668 - val_loss: 0.1199 - val_accuracy: 0.9666\n",
      "Epoch 4/100\n",
      "2189/2189 [==============================] - 3s 1ms/step - loss: 0.1105 - accuracy: 0.9695 - val_loss: 0.1194 - val_accuracy: 0.9685\n",
      "Epoch 5/100\n",
      "2189/2189 [==============================] - 3s 1ms/step - loss: 0.1031 - accuracy: 0.9719 - val_loss: 0.1063 - val_accuracy: 0.9691\n",
      "Epoch 6/100\n",
      "2189/2189 [==============================] - 3s 1ms/step - loss: 0.0962 - accuracy: 0.9730 - val_loss: 0.1000 - val_accuracy: 0.9718\n",
      "Epoch 7/100\n",
      "2189/2189 [==============================] - 3s 1ms/step - loss: 0.0911 - accuracy: 0.9740 - val_loss: 0.1071 - val_accuracy: 0.9693\n",
      "Epoch 8/100\n",
      "2189/2189 [==============================] - 4s 2ms/step - loss: 0.0863 - accuracy: 0.9753 - val_loss: 0.0924 - val_accuracy: 0.9741\n",
      "Epoch 9/100\n",
      "2189/2189 [==============================] - 3s 1ms/step - loss: 0.0823 - accuracy: 0.9764 - val_loss: 0.1003 - val_accuracy: 0.9730\n",
      "Epoch 10/100\n",
      "2189/2189 [==============================] - 3s 2ms/step - loss: 0.0783 - accuracy: 0.9772 - val_loss: 0.0931 - val_accuracy: 0.9748\n",
      "Epoch 11/100\n",
      "2189/2189 [==============================] - 3s 1ms/step - loss: 0.0771 - accuracy: 0.9779 - val_loss: 0.0943 - val_accuracy: 0.9752\n",
      "Epoch 12/100\n",
      "2189/2189 [==============================] - 3s 1ms/step - loss: 0.0754 - accuracy: 0.9777 - val_loss: 0.0932 - val_accuracy: 0.9735\n",
      "Epoch 13/100\n",
      "2189/2189 [==============================] - 3s 2ms/step - loss: 0.0720 - accuracy: 0.9784 - val_loss: 0.0887 - val_accuracy: 0.9762\n",
      "Epoch 14/100\n",
      "2189/2189 [==============================] - 3s 1ms/step - loss: 0.0706 - accuracy: 0.9793 - val_loss: 0.0930 - val_accuracy: 0.9748\n",
      "Epoch 15/100\n",
      "2189/2189 [==============================] - 3s 1ms/step - loss: 0.0704 - accuracy: 0.9791 - val_loss: 0.0898 - val_accuracy: 0.9766\n",
      "Epoch 16/100\n",
      "2189/2189 [==============================] - 3s 1ms/step - loss: 0.0672 - accuracy: 0.9803 - val_loss: 0.1035 - val_accuracy: 0.9729\n",
      "Epoch 17/100\n",
      "2189/2189 [==============================] - 3s 2ms/step - loss: 0.0674 - accuracy: 0.9794 - val_loss: 0.0903 - val_accuracy: 0.9751\n",
      "Epoch 18/100\n",
      "2189/2189 [==============================] - 4s 2ms/step - loss: 0.0625 - accuracy: 0.9811 - val_loss: 0.1001 - val_accuracy: 0.9766\n",
      "Epoch 19/100\n",
      "2189/2189 [==============================] - 3s 1ms/step - loss: 0.0631 - accuracy: 0.9807 - val_loss: 0.0980 - val_accuracy: 0.9758\n",
      "Epoch 20/100\n",
      "2189/2189 [==============================] - 3s 1ms/step - loss: 0.0611 - accuracy: 0.9817 - val_loss: 0.0975 - val_accuracy: 0.9750\n",
      "Epoch 21/100\n",
      "2189/2189 [==============================] - 3s 1ms/step - loss: 0.0612 - accuracy: 0.9817 - val_loss: 0.1031 - val_accuracy: 0.9750\n",
      "Epoch 22/100\n",
      "2189/2189 [==============================] - 3s 1ms/step - loss: 0.0605 - accuracy: 0.9824 - val_loss: 0.0899 - val_accuracy: 0.9773\n",
      "Epoch 23/100\n",
      "2189/2189 [==============================] - 3s 2ms/step - loss: 0.0575 - accuracy: 0.9826 - val_loss: 0.0937 - val_accuracy: 0.9758\n"
     ]
    }
   ],
   "source": [
    "import keras.callbacks\n",
    "early_stopping_cb = keras.callbacks.EarlyStopping(patience=10,\n",
    "                                                  restore_best_weights=True)\n",
    "#onecycle = OneCycleScheduler(math.ceil(len(X) / 32) * 32, max_rate=0.05)\n",
    "\n",
    "\n",
    "history=model.fit(X, y, epochs=100,\n",
    "          validation_data=(X_valid,y_valid),\n",
    "          callbacks = early_stopping_cb, batch_size=32)# class_weight=class_weights)"
   ]
  },
  {
   "cell_type": "code",
   "execution_count": 22,
   "id": "76706037",
   "metadata": {},
   "outputs": [
    {
     "name": "stdout",
     "output_type": "stream",
     "text": [
      "548/548 [==============================] - 1s 842us/step\n"
     ]
    }
   ],
   "source": [
    "predictions = model.predict(X_valid)"
   ]
  },
  {
   "cell_type": "code",
   "execution_count": 23,
   "id": "5407a34c",
   "metadata": {},
   "outputs": [
    {
     "data": {
      "text/plain": [
       "array([0, 0, 0, ..., 0, 0, 0], dtype=int64)"
      ]
     },
     "execution_count": 23,
     "metadata": {},
     "output_type": "execute_result"
    }
   ],
   "source": [
    "predictions=np.argmax(predictions, axis=1)\n",
    "predictions"
   ]
  },
  {
   "cell_type": "code",
   "execution_count": 24,
   "id": "8b57eb6a",
   "metadata": {},
   "outputs": [
    {
     "name": "stdout",
     "output_type": "stream",
     "text": [
      "              precision    recall  f1-score   support\n",
      "\n",
      "         0.0       0.98      0.99      0.99     14494\n",
      "         1.0       0.89      0.68      0.77       445\n",
      "         2.0       0.92      0.93      0.93      1158\n",
      "         3.0       0.72      0.71      0.72       128\n",
      "         4.0       0.98      0.98      0.98      1286\n",
      "\n",
      "    accuracy                           0.98     17511\n",
      "   macro avg       0.90      0.86      0.88     17511\n",
      "weighted avg       0.98      0.98      0.98     17511\n",
      "\n"
     ]
    }
   ],
   "source": [
    "from sklearn.metrics import classification_report\n",
    "print(classification_report(y_valid, predictions))"
   ]
  },
  {
   "cell_type": "code",
   "execution_count": 25,
   "id": "ff17b8ce",
   "metadata": {},
   "outputs": [
    {
     "name": "stdout",
     "output_type": "stream",
     "text": [
      "548/548 [==============================] - 1s 1ms/step - loss: 0.0887 - accuracy: 0.9762\n"
     ]
    },
    {
     "data": {
      "text/plain": [
       "[0.08870840072631836, 0.9762434959411621]"
      ]
     },
     "execution_count": 25,
     "metadata": {},
     "output_type": "execute_result"
    }
   ],
   "source": [
    "model.evaluate(X_valid, y_valid)"
   ]
  },
  {
   "cell_type": "raw",
   "id": "1f2f2c14",
   "metadata": {},
   "source": [
    "The accuracy is already quite good with 97.57% but can be improved with feature selection andParametertuning."
   ]
  },
  {
   "cell_type": "markdown",
   "id": "3d3120c5",
   "metadata": {},
   "source": [
    "# Feature Selection\n",
    "For Feature Selection i use a PCA that keeps 97% of the variance in the dataset."
   ]
  },
  {
   "cell_type": "code",
   "execution_count": 26,
   "id": "68cfc448",
   "metadata": {},
   "outputs": [],
   "source": [
    "from sklearn.base import BaseEstimator, TransformerMixin\n",
    "from sklearn.decomposition import PCA\n",
    "\n",
    "class PCA_97_Selector(BaseEstimator, TransformerMixin):\n",
    "    \n",
    "    def fit(self, X, y=None):\n",
    "        return self\n",
    "\n",
    "    def transform(self, X):\n",
    "        X_reduced = pca_fit.transform(X)\n",
    "        X=pd.DataFrame(X_reduced)\n",
    "        return X"
   ]
  },
  {
   "cell_type": "code",
   "execution_count": 27,
   "id": "113e8fd2",
   "metadata": {},
   "outputs": [],
   "source": [
    "pca = PCA(n_components=0.97)\n",
    "pca_fit = pca.fit(X)"
   ]
  },
  {
   "cell_type": "code",
   "execution_count": 28,
   "id": "d55bb78a",
   "metadata": {},
   "outputs": [],
   "source": [
    "pipeline =  Pipeline([\n",
    "        (\"scaler\", StandardScaler()),\n",
    "        (\"PCA\", PCA_97_Selector())\n",
    "])"
   ]
  },
  {
   "cell_type": "code",
   "execution_count": 29,
   "id": "5eca6a29",
   "metadata": {},
   "outputs": [],
   "source": [
    "X = pipeline.fit_transform(X)\n",
    "X = pd.DataFrame(X)\n",
    "X_valid = pipeline.fit_transform(X_valid)\n",
    "X_valid = pd.DataFrame(X_valid)"
   ]
  },
  {
   "cell_type": "code",
   "execution_count": 30,
   "id": "c90477a1",
   "metadata": {},
   "outputs": [
    {
     "data": {
      "text/plain": [
       "(70043, 52)"
      ]
     },
     "execution_count": 30,
     "metadata": {},
     "output_type": "execute_result"
    }
   ],
   "source": [
    "X.shape"
   ]
  },
  {
   "cell_type": "markdown",
   "id": "29b63c99",
   "metadata": {},
   "source": [
    "# The number of features were reduced from 187 to only 52. Lets try these new features! Hopefully our accuracy did not decrease."
   ]
  },
  {
   "cell_type": "code",
   "execution_count": 31,
   "id": "ccbf0f22",
   "metadata": {},
   "outputs": [],
   "source": [
    "model = keras.models.Sequential()\n",
    "model.add(keras.layers.Flatten(input_shape=X.shape[1:]))\n",
    "model.add(keras.layers.Dense(50,\n",
    "                                 kernel_initializer=\"lecun_normal\",\n",
    "                                 activation=\"selu\"))\n",
    "model.add(keras.layers.Dense(50,\n",
    "                                 kernel_initializer=\"lecun_normal\",\n",
    "                                 activation=\"selu\"))\n",
    "\n",
    "model.add(keras.layers.Dense(5, activation=\"softmax\"))\n",
    "\n",
    "optimizer=keras.optimizers.SGD(learning_rate=1e-2, momentum=0.9)\n",
    "model.compile(loss=\"sparse_categorical_crossentropy\", optimizer=optimizer, metrics=[\"accuracy\"])"
   ]
  },
  {
   "cell_type": "code",
   "execution_count": 32,
   "id": "05d70823",
   "metadata": {},
   "outputs": [
    {
     "name": "stdout",
     "output_type": "stream",
     "text": [
      "Epoch 1/100\n",
      "2189/2189 [==============================] - 4s 1ms/step - loss: 0.2156 - accuracy: 0.9411 - val_loss: 0.1531 - val_accuracy: 0.9579\n",
      "Epoch 2/100\n",
      "2189/2189 [==============================] - 3s 1ms/step - loss: 0.1408 - accuracy: 0.9617 - val_loss: 0.1306 - val_accuracy: 0.9664\n",
      "Epoch 3/100\n",
      "2189/2189 [==============================] - 3s 1ms/step - loss: 0.1236 - accuracy: 0.9656 - val_loss: 0.1171 - val_accuracy: 0.9691\n",
      "Epoch 4/100\n",
      "2189/2189 [==============================] - 3s 1ms/step - loss: 0.1132 - accuracy: 0.9686 - val_loss: 0.1099 - val_accuracy: 0.9705\n",
      "Epoch 5/100\n",
      "2189/2189 [==============================] - 3s 2ms/step - loss: 0.1040 - accuracy: 0.9710 - val_loss: 0.1054 - val_accuracy: 0.9714\n",
      "Epoch 6/100\n",
      "2189/2189 [==============================] - 3s 1ms/step - loss: 0.0991 - accuracy: 0.9725 - val_loss: 0.1029 - val_accuracy: 0.9721\n",
      "Epoch 7/100\n",
      "2189/2189 [==============================] - 4s 2ms/step - loss: 0.0943 - accuracy: 0.9733 - val_loss: 0.1098 - val_accuracy: 0.9702\n",
      "Epoch 8/100\n",
      "2189/2189 [==============================] - 3s 2ms/step - loss: 0.0915 - accuracy: 0.9735 - val_loss: 0.0961 - val_accuracy: 0.9732\n",
      "Epoch 9/100\n",
      "2189/2189 [==============================] - 3s 2ms/step - loss: 0.0891 - accuracy: 0.9738 - val_loss: 0.1017 - val_accuracy: 0.9724\n",
      "Epoch 10/100\n",
      "2189/2189 [==============================] - 5s 2ms/step - loss: 0.0861 - accuracy: 0.9746 - val_loss: 0.0964 - val_accuracy: 0.9750\n",
      "Epoch 11/100\n",
      "2189/2189 [==============================] - 4s 2ms/step - loss: 0.0829 - accuracy: 0.9763 - val_loss: 0.0904 - val_accuracy: 0.9743\n",
      "Epoch 12/100\n",
      "2189/2189 [==============================] - 3s 1ms/step - loss: 0.0800 - accuracy: 0.9764 - val_loss: 0.0919 - val_accuracy: 0.9761\n",
      "Epoch 13/100\n",
      "2189/2189 [==============================] - 3s 1ms/step - loss: 0.0805 - accuracy: 0.9770 - val_loss: 0.1039 - val_accuracy: 0.9701\n",
      "Epoch 14/100\n",
      "2189/2189 [==============================] - 3s 2ms/step - loss: 0.0752 - accuracy: 0.9782 - val_loss: 0.0904 - val_accuracy: 0.9753\n",
      "Epoch 15/100\n",
      "2189/2189 [==============================] - 3s 2ms/step - loss: 0.0742 - accuracy: 0.9785 - val_loss: 0.0986 - val_accuracy: 0.9734\n",
      "Epoch 16/100\n",
      "2189/2189 [==============================] - 3s 1ms/step - loss: 0.0725 - accuracy: 0.9790 - val_loss: 0.1002 - val_accuracy: 0.9740\n",
      "Epoch 17/100\n",
      "2189/2189 [==============================] - 4s 2ms/step - loss: 0.0717 - accuracy: 0.9791 - val_loss: 0.0935 - val_accuracy: 0.9745\n",
      "Epoch 18/100\n",
      "2189/2189 [==============================] - 3s 1ms/step - loss: 0.0700 - accuracy: 0.9791 - val_loss: 0.0961 - val_accuracy: 0.9742\n",
      "Epoch 19/100\n",
      "2189/2189 [==============================] - 3s 2ms/step - loss: 0.0708 - accuracy: 0.9790 - val_loss: 0.0949 - val_accuracy: 0.9734\n",
      "Epoch 20/100\n",
      "2189/2189 [==============================] - 3s 1ms/step - loss: 0.0691 - accuracy: 0.9795 - val_loss: 0.1039 - val_accuracy: 0.9712\n",
      "Epoch 21/100\n",
      "2189/2189 [==============================] - 3s 1ms/step - loss: 0.0689 - accuracy: 0.9792 - val_loss: 0.0902 - val_accuracy: 0.9777\n",
      "Epoch 22/100\n",
      "2189/2189 [==============================] - 3s 1ms/step - loss: 0.0661 - accuracy: 0.9797 - val_loss: 0.0941 - val_accuracy: 0.9761\n",
      "Epoch 23/100\n",
      "2189/2189 [==============================] - 3s 2ms/step - loss: 0.0665 - accuracy: 0.9803 - val_loss: 0.0928 - val_accuracy: 0.9758\n",
      "Epoch 24/100\n",
      "2189/2189 [==============================] - 3s 1ms/step - loss: 0.0647 - accuracy: 0.9810 - val_loss: 0.1024 - val_accuracy: 0.9741\n",
      "Epoch 25/100\n",
      "2189/2189 [==============================] - 4s 2ms/step - loss: 0.0663 - accuracy: 0.9800 - val_loss: 0.1103 - val_accuracy: 0.9714\n",
      "Epoch 26/100\n",
      "2189/2189 [==============================] - 3s 1ms/step - loss: 0.0653 - accuracy: 0.9807 - val_loss: 0.0966 - val_accuracy: 0.9751\n",
      "Epoch 27/100\n",
      "2189/2189 [==============================] - 3s 1ms/step - loss: 0.0622 - accuracy: 0.9813 - val_loss: 0.0897 - val_accuracy: 0.9763\n",
      "Epoch 28/100\n",
      "2189/2189 [==============================] - 3s 1ms/step - loss: 0.0618 - accuracy: 0.9814 - val_loss: 0.0925 - val_accuracy: 0.9757\n",
      "Epoch 29/100\n",
      "2189/2189 [==============================] - 3s 1ms/step - loss: 0.0613 - accuracy: 0.9812 - val_loss: 0.1003 - val_accuracy: 0.9761\n",
      "Epoch 30/100\n",
      "2189/2189 [==============================] - 3s 1ms/step - loss: 0.0617 - accuracy: 0.9811 - val_loss: 0.0971 - val_accuracy: 0.9749\n",
      "Epoch 31/100\n",
      "2189/2189 [==============================] - 3s 1ms/step - loss: 0.0604 - accuracy: 0.9815 - val_loss: 0.0975 - val_accuracy: 0.9748\n",
      "Epoch 32/100\n",
      "2189/2189 [==============================] - 3s 2ms/step - loss: 0.0586 - accuracy: 0.9822 - val_loss: 0.0902 - val_accuracy: 0.9759\n",
      "Epoch 33/100\n",
      "2189/2189 [==============================] - 3s 1ms/step - loss: 0.0561 - accuracy: 0.9826 - val_loss: 0.1126 - val_accuracy: 0.9690\n",
      "Epoch 34/100\n",
      "2189/2189 [==============================] - 3s 2ms/step - loss: 0.0592 - accuracy: 0.9820 - val_loss: 0.0947 - val_accuracy: 0.9766\n",
      "Epoch 35/100\n",
      "2189/2189 [==============================] - 3s 1ms/step - loss: 0.0594 - accuracy: 0.9817 - val_loss: 0.0969 - val_accuracy: 0.9745\n",
      "Epoch 36/100\n",
      "2189/2189 [==============================] - 3s 1ms/step - loss: 0.0560 - accuracy: 0.9826 - val_loss: 0.1074 - val_accuracy: 0.9710\n",
      "Epoch 37/100\n",
      "2189/2189 [==============================] - 3s 1ms/step - loss: 0.0571 - accuracy: 0.9821 - val_loss: 0.1134 - val_accuracy: 0.9700\n"
     ]
    }
   ],
   "source": [
    "history=model.fit(X, y, epochs=100,\n",
    "          validation_data=(X_valid,y_valid),\n",
    "          callbacks = early_stopping_cb, batch_size=32)"
   ]
  },
  {
   "cell_type": "code",
   "execution_count": 33,
   "id": "3beec22c",
   "metadata": {},
   "outputs": [
    {
     "name": "stdout",
     "output_type": "stream",
     "text": [
      "548/548 [==============================] - 1s 815us/step\n"
     ]
    }
   ],
   "source": [
    "predictions = model.predict(X_valid)\n",
    "predictions=np.argmax(predictions, axis=1)"
   ]
  },
  {
   "cell_type": "code",
   "execution_count": 34,
   "id": "f1ae456b",
   "metadata": {},
   "outputs": [
    {
     "name": "stdout",
     "output_type": "stream",
     "text": [
      "              precision    recall  f1-score   support\n",
      "\n",
      "         0.0       0.99      0.99      0.99     14494\n",
      "         1.0       0.86      0.68      0.76       445\n",
      "         2.0       0.94      0.92      0.93      1158\n",
      "         3.0       0.65      0.80      0.72       128\n",
      "         4.0       0.98      0.98      0.98      1286\n",
      "\n",
      "    accuracy                           0.98     17511\n",
      "   macro avg       0.88      0.88      0.88     17511\n",
      "weighted avg       0.98      0.98      0.98     17511\n",
      "\n"
     ]
    }
   ],
   "source": [
    "from sklearn.metrics import classification_report\n",
    "print(classification_report(y_valid, predictions))"
   ]
  },
  {
   "cell_type": "code",
   "execution_count": 35,
   "id": "a50b7c63",
   "metadata": {},
   "outputs": [
    {
     "name": "stdout",
     "output_type": "stream",
     "text": [
      "548/548 [==============================] - 1s 966us/step - loss: 0.0897 - accuracy: 0.9763\n"
     ]
    },
    {
     "data": {
      "text/plain": [
       "[0.08970203995704651, 0.9763005971908569]"
      ]
     },
     "execution_count": 35,
     "metadata": {},
     "output_type": "execute_result"
    }
   ],
   "source": [
    "model.evaluate(X_valid, y_valid)"
   ]
  },
  {
   "cell_type": "raw",
   "id": "8af87273",
   "metadata": {},
   "source": [
    "The accuracy did improve but with Paranetertuning it could improve even more.\n",
    "\n"
   ]
  },
  {
   "cell_type": "markdown",
   "id": "bdb17a22",
   "metadata": {},
   "source": [
    "# Hyperparameter Tuning¶\n",
    "For the tuning i use the predefined validationset from before instead of crossvalidation because of limited processing power."
   ]
  },
  {
   "cell_type": "code",
   "execution_count": 36,
   "id": "af52dde4",
   "metadata": {},
   "outputs": [
    {
     "name": "stdout",
     "output_type": "stream",
     "text": [
      "-1    70043\n",
      " 0    17511\n",
      "dtype: int64\n"
     ]
    }
   ],
   "source": [
    "from sklearn.model_selection import  PredefinedSplit\n",
    "split_index = [-1]*len(X)+[0]*len(X_valid)\n",
    "X_split = pd.concat([X, X_valid], axis=0)\n",
    "Y_split = pd.concat([y, y_valid], axis=0)\n",
    "pds = PredefinedSplit(test_fold=split_index)\n",
    "print(pd.DataFrame(split_index).value_counts())"
   ]
  },
  {
   "cell_type": "code",
   "execution_count": 37,
   "id": "e909c713",
   "metadata": {},
   "outputs": [
    {
     "name": "stdout",
     "output_type": "stream",
     "text": [
      "-1    70043\n",
      " 0    17511\n",
      "dtype: int64\n"
     ]
    }
   ],
   "source": [
    "from sklearn.model_selection import  PredefinedSplit\n",
    "split_index = [-1]*len(X)+[0]*len(X_valid)\n",
    "X_split = pd.concat([X, X_valid], axis=0)\n",
    "Y_split = pd.concat([y, y_valid], axis=0)\n",
    "pds = PredefinedSplit(test_fold=split_index)\n",
    "print(pd.DataFrame(split_index).value_counts())"
   ]
  }
 ],
 "metadata": {
  "kernelspec": {
   "display_name": "Python 3 (ipykernel)",
   "language": "python",
   "name": "python3"
  },
  "language_info": {
   "codemirror_mode": {
    "name": "ipython",
    "version": 3
   },
   "file_extension": ".py",
   "mimetype": "text/x-python",
   "name": "python",
   "nbconvert_exporter": "python",
   "pygments_lexer": "ipython3",
   "version": "3.10.9"
  }
 },
 "nbformat": 4,
 "nbformat_minor": 5
}
